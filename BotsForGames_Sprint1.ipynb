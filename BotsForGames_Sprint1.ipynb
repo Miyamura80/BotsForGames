{
  "nbformat": 4,
  "nbformat_minor": 0,
  "metadata": {
    "colab": {
      "name": "BotsForGames_Sprint1.ipynb",
      "provenance": [],
      "collapsed_sections": [],
      "authorship_tag": "ABX9TyPsCRNDiFt2/53uxnKbagOn",
      "include_colab_link": true
    },
    "kernelspec": {
      "name": "python3",
      "display_name": "Python 3"
    },
    "language_info": {
      "name": "python"
    }
  },
  "cells": [
    {
      "cell_type": "markdown",
      "metadata": {
        "id": "view-in-github",
        "colab_type": "text"
      },
      "source": [
        "<a href=\"https://colab.research.google.com/github/Miyamura80/BotsForGames/blob/main/BotsForGames_Sprint1.ipynb\" target=\"_parent\"><img src=\"https://colab.research.google.com/assets/colab-badge.svg\" alt=\"Open In Colab\"/></a>"
      ]
    },
    {
      "cell_type": "code",
      "execution_count": 1,
      "metadata": {
        "id": "WFx7VqURPMzd",
        "colab": {
          "base_uri": "https://localhost:8080/"
        },
        "outputId": "67f1e055-8b52-40c7-eaac-b4d2d6d7b774"
      },
      "outputs": [
        {
          "output_type": "stream",
          "name": "stdout",
          "text": [
            "Collecting open_spiel\n",
            "  Downloading open_spiel-1.0.2-cp37-cp37m-manylinux_2_17_x86_64.manylinux2014_x86_64.whl (4.2 MB)\n",
            "\u001b[K     |████████████████████████████████| 4.2 MB 7.2 MB/s \n",
            "\u001b[?25hRequirement already satisfied: pip>=20.0.2 in /usr/local/lib/python3.7/dist-packages (from open_spiel) (21.1.3)\n",
            "Requirement already satisfied: attrs>=19.3.0 in /usr/local/lib/python3.7/dist-packages (from open_spiel) (21.4.0)\n",
            "Requirement already satisfied: numpy>=1.16 in /usr/local/lib/python3.7/dist-packages (from open_spiel) (1.19.5)\n",
            "Requirement already satisfied: absl-py>=0.10.0 in /usr/local/lib/python3.7/dist-packages (from open_spiel) (0.12.0)\n",
            "Requirement already satisfied: six in /usr/local/lib/python3.7/dist-packages (from absl-py>=0.10.0->open_spiel) (1.15.0)\n",
            "Installing collected packages: open-spiel\n",
            "Successfully installed open-spiel-1.0.2\n"
          ]
        }
      ],
      "source": [
        "!pip install --upgrade open_spiel"
      ]
    },
    {
      "cell_type": "markdown",
      "source": [
        "Initialize env"
      ],
      "metadata": {
        "id": "_ThR6LyxcC7u"
      }
    },
    {
      "cell_type": "code",
      "source": [
        "import numpy as np\n",
        "import pyspiel\n",
        "\n",
        "game = pyspiel.load_game(\"hex\")\n",
        "state = game.new_initial_state()\n",
        "\n",
        "while not state.is_terminal():\n",
        "  state.apply_action(np.random.choice(state.legal_actions()))\n",
        "  print(str(state) + '\\n')"
      ],
      "metadata": {
        "id": "SGTZWsNqcI6e"
      },
      "execution_count": null,
      "outputs": []
    },
    {
      "cell_type": "markdown",
      "source": [
        ""
      ],
      "metadata": {
        "id": "JyvxYY4XcGy-"
      }
    },
    {
      "cell_type": "code",
      "source": [
        ""
      ],
      "metadata": {
        "id": "hlmHBWidb-1X"
      },
      "execution_count": null,
      "outputs": []
    }
  ]
}